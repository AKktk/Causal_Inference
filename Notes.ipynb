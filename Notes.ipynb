{
 "cells": [
  {
   "cell_type": "markdown",
   "id": "aad2f7c0",
   "metadata": {},
   "source": [
    "## Causal Inference Basics"
   ]
  },
  {
   "cell_type": "markdown",
   "id": "491a9386",
   "metadata": {},
   "source": [
    "References:\n",
    "1. https://www.bradyneal.com/causal-inference-course\n",
    "2. https://www.hsph.harvard.edu/miguel-hernan/causal-inference-book/        "
   ]
  },
  {
   "cell_type": "markdown",
   "id": "6dd28e0e",
   "metadata": {},
   "source": [
    "### Covariates v/s Confounders:\n",
    "\n",
    "**Covariates and confounders are important concepts in causal inference, which refers to the study of how changes in one variable cause changes in another variable.**\n",
    "\n",
    "A covariate is a variable that is related to both the exposure (i.e., the cause) and the outcome (i.e., the effect) of interest. For example, if we are studying the relationship between smoking and lung cancer, age would be a covariate because it is related to both smoking and the risk of lung cancer.\n",
    "\n",
    "A confounder, on the other hand, is a variable that is related to both the exposure and outcome, but it is also a cause of the outcome. Confounders can distort the relationship between the exposure and outcome and lead to incorrect conclusions. For example, if we are studying the relationship between smoking and lung cancer, socio-economic status (e.g., income, education) could be a confounder because people with lower socio-economic status are more likely to smoke and also have higher rates of lung cancer. In this case, if we don't control for socio-economic status, we might incorrectly conclude that smoking causes lung cancer, when in reality, it could be the socio-economic status that is driving the relationship.\n",
    "\n",
    "**In summary, covariates and confounders are related to both the exposure and outcome, but only confounders can distort the relationship between the exposure and outcome and lead to incorrect conclusions.**"
   ]
  }
 ],
 "metadata": {
  "kernelspec": {
   "display_name": "Python 3 (ipykernel)",
   "language": "python",
   "name": "python3"
  },
  "language_info": {
   "codemirror_mode": {
    "name": "ipython",
    "version": 3
   },
   "file_extension": ".py",
   "mimetype": "text/x-python",
   "name": "python",
   "nbconvert_exporter": "python",
   "pygments_lexer": "ipython3",
   "version": "3.9.7"
  }
 },
 "nbformat": 4,
 "nbformat_minor": 5
}
